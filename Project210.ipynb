{
  "cells": [
    {
      "cell_type": "raw",
      "metadata": {},
      "source": [
        "---\n",
        "title: DANL 210 Project\n",
        "subtitle: \"Understanding ESG Metrics and Financial Data: A Data Analysis Project\"\n",
        "author: \n",
        "  - Owen Ellick\n",
        "\n",
        "toc: true\n",
        "toc-title: \"Table of Contents\"\n",
        "toc-depth: 2\n",
        "number-sections: true\n",
        "\n",
        "fig-width: 9\n",
        "\n",
        "execute:\n",
        "  code-tools: true\n",
        "  message: false\n",
        "  warning: false\n",
        "\n",
        "from: markdown+emoji\n",
        "---"
      ],
      "id": "a8719a0d"
    },
    {
      "cell_type": "markdown",
      "metadata": {},
      "source": [
        "# 1. Introduction :chart_with_upwards_trend:\n",
        "\n",
        "## Background :office_worker:\n",
        "\n",
        "The integration of Environmental, Social, and Governance (ESG) factors have become increasingly important for investors, businesses, and policymakers due to their implications for sustainability, ethical practices, and long-term financial performance. Understanding the relationship between ESG metrics and financial/accounting data is crucial for making informed investment decisions, developing sustainable business strategies, and shaping public policy.\n",
        "\n",
        "## Statement of the Problem :technologist:\n",
        "\n",
        "This project seeks to analyze the interplay between ESG metrics, stock performance, and financial health by integrating data from multiple sources. The specific problem addressed is the lack of comprehensive insights into how ESG factors influence stock market performance and financial outcomes. By conducting data analysis, we aim to uncover patters, correlations, and trends that shed light on the relationship between sustainable practices, market valuation, and corporate financial performance. This analysis will provide valuable insights for investors, business, and policymakers seeking to incorporate ESG considerations into their decision-making processes and drive positive social and environmental impact.\n",
        "\n",
        "# Load the Data\n"
      ],
      "id": "10316c96"
    },
    {
      "cell_type": "code",
      "metadata": {},
      "source": [
        "import pandas as pd\n",
        "import seaborn as sns\n",
        "import matplotlib.pyplot as plt\n",
        "\n",
        "finance_balance_sheets = pd.read_csv('yfinance-balance-sheet.csv')\n",
        "finance_income_statement = pd.read_csv('yfinance-income-stmt.csv')\n",
        "finance_history = pd.read_csv('yfinance-history.csv')\n",
        "esg_proj_data = pd.read_csv('esg_proj_data.csv')"
      ],
      "id": "e76d40fb",
      "execution_count": null,
      "outputs": []
    },
    {
      "cell_type": "markdown",
      "metadata": {},
      "source": [
        "# 2. Descriptive Statistics :computer:\n",
        "\n",
        "## Descriptive Statistics for Yfinance History\n",
        "\n",
        "### Ungrouped\n"
      ],
      "id": "3d7c4116"
    },
    {
      "cell_type": "code",
      "metadata": {},
      "source": [
        "print(\"\\nYfinance History Data Descriptive Statistics:\")\n",
        "print(finance_history.describe())"
      ],
      "id": "fa6b83b3",
      "execution_count": null,
      "outputs": []
    },
    {
      "cell_type": "markdown",
      "metadata": {},
      "source": [
        "### Grouped/Selected\n"
      ],
      "id": "2c4b26a3"
    },
    {
      "cell_type": "code",
      "metadata": {},
      "source": [
        "finance_history['Volume'].describe()"
      ],
      "id": "4f5e1ef9",
      "execution_count": null,
      "outputs": []
    },
    {
      "cell_type": "markdown",
      "metadata": {},
      "source": [
        "## Descriptive Statistics for Balance Sheets\n",
        "\n",
        "### Ungrouped\n"
      ],
      "id": "e944796d"
    },
    {
      "cell_type": "code",
      "metadata": {},
      "source": [
        "print(\"\\nFinance Balance Sheets Data Descriptive Statistics:\")\n",
        "print(finance_balance_sheets.describe())"
      ],
      "id": "43b06212",
      "execution_count": null,
      "outputs": []
    },
    {
      "cell_type": "markdown",
      "metadata": {},
      "source": [
        "### Grouped/Selected\n"
      ],
      "id": "2c538da1"
    },
    {
      "cell_type": "code",
      "metadata": {},
      "source": [
        "finance_balance_sheets[['Total Assets','Total Debt']].describe()"
      ],
      "id": "a04cd07d",
      "execution_count": null,
      "outputs": []
    },
    {
      "cell_type": "markdown",
      "metadata": {},
      "source": [
        "## Descriptive Statistics Income Statements\n",
        "\n",
        "### Ungrouped\n"
      ],
      "id": "590ae18a"
    },
    {
      "cell_type": "code",
      "metadata": {},
      "source": [
        "print(\"\\nFinance Income Statement Data Descriptive Statistics:\")\n",
        "print(finance_income_statement.describe())"
      ],
      "id": "10530a32",
      "execution_count": null,
      "outputs": []
    },
    {
      "cell_type": "markdown",
      "metadata": {},
      "source": [
        "### Grouped/Selected\n"
      ],
      "id": "980e9554"
    },
    {
      "cell_type": "code",
      "metadata": {},
      "source": [
        "finance_income_statement['Net Income'].describe()"
      ],
      "id": "622a94f8",
      "execution_count": null,
      "outputs": []
    },
    {
      "cell_type": "markdown",
      "metadata": {},
      "source": [
        "## Descriptive Statistics ESG Project Data\n",
        "\n",
        "### Ungrouped\n"
      ],
      "id": "eda6acee"
    },
    {
      "cell_type": "code",
      "metadata": {},
      "source": [
        "print(\"\\nESG Data Descriptive Statistics:\")\n",
        "print(esg_proj_data.describe())"
      ],
      "id": "66dc6aa0",
      "execution_count": null,
      "outputs": []
    },
    {
      "cell_type": "markdown",
      "metadata": {},
      "source": [
        "### Grouped/Selected\n"
      ],
      "id": "b61fd549"
    },
    {
      "cell_type": "code",
      "metadata": {},
      "source": [
        "esg_proj_data['Total ESG Risk Score'].describe()"
      ],
      "id": "0bec8361",
      "execution_count": null,
      "outputs": []
    },
    {
      "cell_type": "code",
      "metadata": {},
      "source": [
        "esg_proj_data['Controversy Level'].describe()"
      ],
      "id": "81583515",
      "execution_count": null,
      "outputs": []
    },
    {
      "cell_type": "markdown",
      "metadata": {},
      "source": [
        "## Distribution Plots\n",
        "\n",
        "### ESG Project Data\n"
      ],
      "id": "20efcf1a"
    },
    {
      "cell_type": "code",
      "metadata": {},
      "source": [
        "def plot_distributions(df, title_prefix):\n",
        "    for col in df.select_dtypes(include=['float64', 'int64']).columns:\n",
        "        plt.figure(figsize=(10, 6))\n",
        "        sns.histplot(df[col].dropna(), bins=20, kde=True)\n",
        "        plt.title(f'Distribution of {title_prefix} {col}')\n",
        "        plt.xlabel(col)\n",
        "        plt.ylabel('Frequency')\n",
        "        plt.show()\n",
        "\n",
        "# Plot distributions for ESG data\n",
        "plot_distributions(esg_proj_data, 'ESG Data')\n"
      ],
      "id": "bc8449e7",
      "execution_count": null,
      "outputs": []
    },
    {
      "cell_type": "markdown",
      "metadata": {},
      "source": [
        "### Yfinance Balance Sheet Data\n"
      ],
      "id": "5b072b48"
    },
    {
      "cell_type": "code",
      "metadata": {},
      "source": [
        "balance_sheet_columns = ['Total Assets', 'Common Stock', 'Current Liabilities', 'Accounts Payable', 'Total Debt']\n",
        "\n",
        "# Function to plot distributions for specified columns\n",
        "def plot_distributions(df, title_prefix, columns):\n",
        "    for col in columns:\n",
        "        plt.figure(figsize=(10, 6))\n",
        "        sns.histplot(df[col].dropna(), bins=20, kde=True)\n",
        "        plt.title(f'Distribution of {title_prefix} {col}')\n",
        "        plt.xlabel(col)\n",
        "        plt.ylabel('Frequency')\n",
        "        plt.show()\n",
        "\n",
        "# Plot distributions for financial balance sheets data\n",
        "plot_distributions(finance_balance_sheets, 'Finance Balance Sheets Data', columns=balance_sheet_columns)"
      ],
      "id": "7bfc25a2",
      "execution_count": null,
      "outputs": []
    },
    {
      "cell_type": "markdown",
      "metadata": {},
      "source": [
        "### Yfinance Income Statement Data\n"
      ],
      "id": "e70ccffe"
    },
    {
      "cell_type": "code",
      "metadata": {},
      "source": [
        "income_statement_columns = ['Net Income', 'Total Revenue', 'Gross Profit', 'Total Expenses']\n",
        "\n",
        "# Function to plot distributions for specified columns\n",
        "def plot_distributions(df, title_prefix, columns):\n",
        "    for col in columns:\n",
        "        plt.figure(figsize=(10, 6))\n",
        "        sns.histplot(df[col].dropna(), bins=20, kde=True)\n",
        "        plt.title(f'Distribution of {title_prefix} {col}')\n",
        "        plt.xlabel(col)\n",
        "        plt.ylabel('Frequency')\n",
        "        plt.show()\n",
        "\n",
        "# Plot distributions for financial income statement data\n",
        "plot_distributions(finance_income_statement, 'Finance Income Statement Data', columns=income_statement_columns)"
      ],
      "id": "316e36ff",
      "execution_count": null,
      "outputs": []
    },
    {
      "cell_type": "markdown",
      "metadata": {},
      "source": [
        "### Yfinance History Data\n"
      ],
      "id": "276573f6"
    },
    {
      "cell_type": "code",
      "metadata": {},
      "source": [
        "history_columns = ['Open', 'High', 'Low', 'Close']\n",
        "\n",
        "# Function to plot distributions for specified columns\n",
        "def plot_distributions(df, title_prefix, columns):\n",
        "    for col in columns:\n",
        "        plt.figure(figsize=(10, 6))\n",
        "        sns.histplot(df[col].dropna(), bins=20, kde=True)\n",
        "        plt.title(f'Distribution of {title_prefix} {col}')\n",
        "        plt.xlabel(col)\n",
        "        plt.ylabel('Frequency')\n",
        "        plt.show()\n",
        "\n",
        "# Plot distributions for financial historical data\n",
        "plot_distributions(finance_history, 'Finance History Data', columns=history_columns)"
      ],
      "id": "38485088",
      "execution_count": null,
      "outputs": []
    },
    {
      "cell_type": "markdown",
      "metadata": {},
      "source": [
        "## Correlation Heat Maps\n",
        "\n",
        "### ESG Project Data Heatmap\n"
      ],
      "id": "1fb4e284"
    },
    {
      "cell_type": "code",
      "metadata": {},
      "source": [
        "numeric_data = esg_proj_data.select_dtypes(include='number')\n",
        "corr_matrix = numeric_data.corr()\n",
        "plt.figure(figsize=(8, 6))\n",
        "\n",
        "sns.heatmap(corr_matrix, annot=True, cmap='coolwarm', fmt=\".2f\", linewidths=.5)\n",
        "\n",
        "\n",
        "plt.title('Correlation Heatmap with Varied Correlations')\n",
        "\n",
        "\n",
        "plt.show()"
      ],
      "id": "ec193009",
      "execution_count": null,
      "outputs": []
    },
    {
      "cell_type": "markdown",
      "metadata": {},
      "source": [
        "### Yfinance Historical Data Heatmap\n"
      ],
      "id": "2c05519b"
    },
    {
      "cell_type": "code",
      "metadata": {},
      "source": [
        "numeric_data = finance_history.select_dtypes(include='number')\n",
        "corr_matrix = numeric_data.corr()\n",
        "plt.figure(figsize=(8, 6))\n",
        "\n",
        "sns.heatmap(corr_matrix, annot=True, cmap='coolwarm', fmt=\".2f\", linewidths=.5)\n",
        "\n",
        "\n",
        "plt.title('Correlation Heatmap with Varied Correlations')\n",
        "\n",
        "\n",
        "plt.show()"
      ],
      "id": "4d5c26ac",
      "execution_count": null,
      "outputs": []
    },
    {
      "cell_type": "markdown",
      "metadata": {},
      "source": [
        "# 3. Exploratory Data Analysis :dollar:\n",
        "\n",
        "## A. ESG Data Analysis\n",
        "\n",
        "-   Find the top 10 companies by Total ESG Risk Score\n"
      ],
      "id": "f4bfded2"
    },
    {
      "cell_type": "code",
      "metadata": {},
      "source": [
        "top_10_companies = esg_proj_data.sort_values(by='Total ESG Risk Score', ascending=False).head(10)\n",
        "\n",
        "print(top_10_companies)"
      ],
      "id": "a5de3dca",
      "execution_count": null,
      "outputs": []
    },
    {
      "cell_type": "markdown",
      "metadata": {},
      "source": [
        "-   Comment: This code provides the top 10 companies in the esg_proj_data data frame by Total ESG Risk Score.\n",
        "    -   As you can see Energy Transfer LP is the top company by Total ESG Risk Score\n",
        "-   Create a plot to visualize the Total ESG Risk Scores for the top 10 companies\n"
      ],
      "id": "a703d359"
    },
    {
      "cell_type": "code",
      "metadata": {},
      "source": [
        "plt.figure(figsize=(10, 6))\n",
        "\n",
        "sns.barplot(data=top_10_companies, x='Comapny Name', y='Total ESG Risk Score', palette='viridis')\n",
        "\n",
        "plt.title('Top 10 Companies by Total ESG Risk Score')\n",
        "plt.xlabel('Company')\n",
        "plt.ylabel('Total ESG Risk Score')\n",
        "plt.xticks(rotation=45, ha='right')\n",
        "\n",
        "plt.tight_layout()\n",
        "plt.show()"
      ],
      "id": "2ae77dc3",
      "execution_count": null,
      "outputs": []
    },
    {
      "cell_type": "markdown",
      "metadata": {},
      "source": [
        "-   Comment: This bar plot visualizes the top 10 companies by Total ESG Risk Score\n",
        "\n",
        "## B. Financial Income Statement Data Analysis\n",
        "\n",
        "-   What is the distribution of net income across a small subset of 5 companies within the data frame finance_income_statement?\n"
      ],
      "id": "2c903927"
    },
    {
      "cell_type": "code",
      "metadata": {},
      "source": [
        "subset_companies = finance_income_statement['Company Name'].unique()[:5] \n",
        "\n",
        "subset_data = finance_income_statement[finance_income_statement['Company Name'].isin(subset_companies)]\n",
        "\n",
        "\n",
        "plt.figure(figsize=(10, 6))\n",
        "\n",
        "\n",
        "sns.boxplot(data=subset_data, x='Net Income', y='Company Name')\n",
        "\n",
        "\n",
        "plt.title('Distribution of Net Income Across Selected Companies')\n",
        "plt.xlabel('Net Income')\n",
        "plt.ylabel('Company Name')\n",
        "\n",
        "plt.tight_layout()\n",
        "plt.show()\n"
      ],
      "id": "99a48b32",
      "execution_count": null,
      "outputs": []
    },
    {
      "cell_type": "markdown",
      "metadata": {},
      "source": [
        "-   Comment: This code shows boxplots regarding net income for the first 5 companies in the data frame\n",
        "    -   The box plot summarizes the central tendency and spread of net income for each selected company\n",
        "    -   It reveals variations in net income distribution among the companies, with Apple being far ahead in every aspect.\n",
        "    -   Potential outliers in net income are indicated by points beyond the whiskers of the box plot\n",
        "    -   This visualization helps identify differences in net income distribution across companies and highlights areas for further analysis\n",
        "\n",
        "## C. Financial History Data Analysis\n",
        "\n",
        "-   What is the average daily trading volume for a specific company over the given time period spanning from January 1,2023, to March 31, 2024?\n"
      ],
      "id": "26e23d57"
    },
    {
      "cell_type": "code",
      "metadata": {},
      "source": [
        "company_name = 'Tesla, Inc.'\n",
        "\n",
        "company_data = finance_history[finance_history['Company Name'] == company_name]\n",
        "average_volume = company_data['Volume'].mean()\n",
        "print(f\"The average daily trading volume for {company_name} is: {average_volume}\")"
      ],
      "id": "59b69fa1",
      "execution_count": null,
      "outputs": []
    },
    {
      "cell_type": "markdown",
      "metadata": {},
      "source": [
        "-   How does the closing price of Zillow Group, Inc. vary over time?\n"
      ],
      "id": "d272160e"
    },
    {
      "cell_type": "code",
      "metadata": {},
      "source": [
        "company_name = 'Zillow Group, Inc.'\n",
        "\n",
        "company_data = finance_history[finance_history['Company Name'] == company_name]\n",
        "company_data['Date'] = pd.to_datetime(company_data['Date'])\n",
        "\n",
        "plt.figure(figsize=(10, 6))\n",
        "sns.lineplot(data=company_data, x='Date', y='Close', marker='o')\n",
        "\n",
        "plt.title(f'Closing Price Over Time for {company_name}')\n",
        "plt.xlabel('Date')\n",
        "plt.ylabel('Closing Price')\n",
        "plt.xticks(rotation=45)\n",
        "plt.tight_layout()\n",
        "plt.show()"
      ],
      "id": "9c5e3841",
      "execution_count": null,
      "outputs": []
    },
    {
      "cell_type": "markdown",
      "metadata": {},
      "source": [
        "-   Comment: The closing price for Zillow based on the visualization was trending upward in the first and second quarter.\n",
        "    -   In the third quarter the close price dropped very low within 35 and 40.\n",
        "    -   During the fourth quarter the closing price willed its way back up\n",
        "    -   Lastly, in the fifth quarter it remained volatile going up and down ultimately ending trending downward\n",
        "\n",
        "## D. Financial Balance Sheet Data Analysis\n",
        "\n",
        "-   Find the top 15 companies in the finance_balance_sheets Data Frame by Inventory\n"
      ],
      "id": "a96425f9"
    },
    {
      "cell_type": "code",
      "metadata": {},
      "source": [
        "grouped_inventory = finance_balance_sheets.groupby('Company Name')['Inventory'].sum().reset_index()\n",
        "\n",
        "top_companies_inventory = grouped_inventory.sort_values(by='Inventory', ascending=False)\n",
        "\n",
        "top_15_companies_inventory = top_companies_inventory.head(15)\n",
        "\n",
        "column_order = ['Company Name', 'Inventory'] + [col for col in top_15_companies_inventory.columns if col not in ['Company Name', 'Inventory']]\n",
        "top_15_companies_inventory = top_15_companies_inventory[column_order]\n",
        "\n",
        "print(top_15_companies_inventory)\n"
      ],
      "id": "021bb4d9",
      "execution_count": null,
      "outputs": []
    },
    {
      "cell_type": "markdown",
      "metadata": {},
      "source": [
        "-   Comment: These are the top 15 companies in the data frame by inventory\n",
        "\n",
        "-   How does total assets value vary across different companies?\n"
      ],
      "id": "07e45537"
    },
    {
      "cell_type": "code",
      "metadata": {},
      "source": [
        "grouped_assets = finance_balance_sheets.groupby('Company Name')['Total Assets'].sum().reset_index()\n",
        "\n",
        "top_companies_assets = grouped_assets.sort_values(by='Total Assets', ascending=False)\n",
        "\n",
        "top_N = 10\n",
        "top_N_companies_assets = top_companies_assets.head(top_N)\n",
        "plt.figure(figsize=(10, 6))\n",
        "sns.barplot(data=top_N_companies_assets, x='Company Name', y='Total Assets')\n",
        "\n",
        "plt.title(f'Top {top_N} Companies by Total Assets')\n",
        "plt.xlabel('Company Name')\n",
        "plt.ylabel('Total Assets')\n",
        "plt.xticks(rotation=90,)\n",
        "plt.tight_layout()\n",
        "plt.show()\n"
      ],
      "id": "87c33068",
      "execution_count": null,
      "outputs": []
    },
    {
      "cell_type": "markdown",
      "metadata": {},
      "source": [
        "-   Comment: This code shows how the variable total assets varys across the top 10 companies by total assets. I reduced the data to top 10 to avoid overcrowding on the x axis.\n",
        "\n",
        "# 4. Significance of the Project :memo:\n",
        "\n",
        "This project holds significant implications across various domains, particularly in investment analysis, risk management, and corporate governance. By utilizing financial and ESG data retrieved from Yahoo! Finance, stakeholders such as investors, financial analysts, and policymakers gain access to valuable insights essential for informed decision-making. For investors, the project offers the opportunity to assess companies' financial performance alongside their environmental, social, and governance practices, enabling more comprehensive investment evaluations. Moreover, businesses can leverage the data to optimize operational strategies, mitigate risks, and enhance sustainability efforts. From a regulatory standpoint, policymakers can use the insights to formulate policies promoting transparency, accountability, and responsible corporate behavior, thus fostering long-term economic growth and societal well-being. Overall, the project's implications extend beyond financial analysis to encompass broader societal and environmental considerations, underscoring its relevance in shaping business practices and public policy.\n",
        "\n",
        "# 5. References :bar_chart:\n",
        "\n",
        "-   Data collected from Yahoo! finance: https://finance.yahoo.com/\n",
        "\n",
        "-   ChatGPT was used as a coding reference to improve code and debug. https://chatgpt.com/"
      ],
      "id": "19ff692a"
    }
  ],
  "metadata": {
    "kernelspec": {
      "name": "python3",
      "language": "python",
      "display_name": "Python 3 (ipykernel)"
    }
  },
  "nbformat": 4,
  "nbformat_minor": 5
}